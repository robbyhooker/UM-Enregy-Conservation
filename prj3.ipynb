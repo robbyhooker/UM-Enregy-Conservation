{
 "cells": [
  {
   "cell_type": "code",
   "execution_count": 14,
   "id": "382e7250",
   "metadata": {},
   "outputs": [],
   "source": [
    "import pandas as pd\n",
    "import glob\n",
    "import os\n",
    "import matplotlib.pyplot as plt\n",
    "import numpy as np"
   ]
  },
  {
   "cell_type": "code",
   "execution_count": 15,
   "id": "fe2229d8",
   "metadata": {},
   "outputs": [],
   "source": [
    "low = \"20210101.csv\"\n",
    "high = \"20220101.csv\"\n",
    "building = \"Martindale\"\n",
    "buildingsqft = 160767"
   ]
  },
  {
   "cell_type": "code",
   "execution_count": 16,
   "id": "0193d7e3",
   "metadata": {},
   "outputs": [],
   "source": [
    "files = os.listdir('.')\n",
    "usage = {}"
   ]
  },
  {
   "cell_type": "code",
   "execution_count": 17,
   "id": "5b4775c7",
   "metadata": {},
   "outputs": [],
   "source": [
    "for file in files:\n",
    "    if file>=low and file<=high:\n",
    "        total = 0\n",
    "        f = open(file, \"r\")\n",
    "        for line in f:\n",
    "            fields = line.split(\",\")\n",
    "            if (building in fields[1]):\n",
    "                total += float(fields[6])\n",
    "        usage[file] = (total)\n",
    "        f.close()\n"
   ]
  },
  {
   "cell_type": "code",
   "execution_count": 5,
   "id": "aa1967dc",
   "metadata": {},
   "outputs": [
    {
     "name": "stdout",
     "output_type": "stream",
     "text": [
      "Stewart\n",
      "Date \t\t kWh usage\n"
     ]
    }
   ],
   "source": [
    "print(building)\n",
    "print(\"Date \\t\\t kWh usage\")\n",
    "total = 0\n",
    "for date in sorted(usage.keys()):\n",
    "    fmt_usage = \"{:.2f}\".format(usage[date])\n",
    "    #total += usage[date]\n",
    "    #print(date[:8], \"\\t\", fmt_usage)\n",
    "    data1 = {'Date':[date[:8]], 'kWh Usage': [fmt_usage]}\n",
    "    df5 = pd.DataFrame(data1)\n",
    "    df5.to_csv('kwhperday.csv', mode='a', index=False, header=False)\n",
    "#fmt_total = \"{:.2f}\".format(total)\n",
    "\n",
    "#print(fmt_total)"
   ]
  },
  {
   "cell_type": "code",
   "execution_count": 18,
   "id": "7422bf72",
   "metadata": {},
   "outputs": [
    {
     "name": "stdout",
     "output_type": "stream",
     "text": [
      "Martindale\n",
      "Date \t\t kWh usage\n"
     ]
    }
   ],
   "source": [
    "print(building)\n",
    "print(\"Date \\t\\t kWh usage\")\n",
    "total = 0\n",
    "for date in sorted(usage.keys()):\n",
    "    fmt_usage = \"{:.2f}\".format(usage[date])\n",
    "    data2 = {'Date':[date[:8]], 'kWhUsage': [fmt_usage]}\n",
    "    df6 = pd.DataFrame(data2)\n",
    "    df6.to_csv('kwhuseMart.csv', mode='a', index=False, header=False)\n"
   ]
  },
  {
   "cell_type": "code",
   "execution_count": 25,
   "id": "05647add",
   "metadata": {},
   "outputs": [
    {
     "data": {
      "text/html": [
       "<div>\n",
       "<style scoped>\n",
       "    .dataframe tbody tr th:only-of-type {\n",
       "        vertical-align: middle;\n",
       "    }\n",
       "\n",
       "    .dataframe tbody tr th {\n",
       "        vertical-align: top;\n",
       "    }\n",
       "\n",
       "    .dataframe thead th {\n",
       "        text-align: right;\n",
       "    }\n",
       "</style>\n",
       "<table border=\"1\" class=\"dataframe\">\n",
       "  <thead>\n",
       "    <tr style=\"text-align: right;\">\n",
       "      <th></th>\n",
       "      <th>Date</th>\n",
       "      <th>kWhUsage</th>\n",
       "    </tr>\n",
       "  </thead>\n",
       "  <tbody>\n",
       "    <tr>\n",
       "      <th>0</th>\n",
       "      <td>20210101</td>\n",
       "      <td>721.92</td>\n",
       "    </tr>\n",
       "    <tr>\n",
       "      <th>1</th>\n",
       "      <td>20210102</td>\n",
       "      <td>708.96</td>\n",
       "    </tr>\n",
       "    <tr>\n",
       "      <th>2</th>\n",
       "      <td>20210103</td>\n",
       "      <td>715.92</td>\n",
       "    </tr>\n",
       "    <tr>\n",
       "      <th>3</th>\n",
       "      <td>20210104</td>\n",
       "      <td>723.60</td>\n",
       "    </tr>\n",
       "    <tr>\n",
       "      <th>4</th>\n",
       "      <td>20210105</td>\n",
       "      <td>981.60</td>\n",
       "    </tr>\n",
       "    <tr>\n",
       "      <th>...</th>\n",
       "      <td>...</td>\n",
       "      <td>...</td>\n",
       "    </tr>\n",
       "    <tr>\n",
       "      <th>361</th>\n",
       "      <td>20211228</td>\n",
       "      <td>695.04</td>\n",
       "    </tr>\n",
       "    <tr>\n",
       "      <th>362</th>\n",
       "      <td>20211229</td>\n",
       "      <td>444.00</td>\n",
       "    </tr>\n",
       "    <tr>\n",
       "      <th>363</th>\n",
       "      <td>20211230</td>\n",
       "      <td>694.80</td>\n",
       "    </tr>\n",
       "    <tr>\n",
       "      <th>364</th>\n",
       "      <td>20211231</td>\n",
       "      <td>680.40</td>\n",
       "    </tr>\n",
       "    <tr>\n",
       "      <th>365</th>\n",
       "      <td>20220101</td>\n",
       "      <td>679.92</td>\n",
       "    </tr>\n",
       "  </tbody>\n",
       "</table>\n",
       "<p>358 rows × 2 columns</p>\n",
       "</div>"
      ],
      "text/plain": [
       "         Date  kWhUsage\n",
       "0    20210101    721.92\n",
       "1    20210102    708.96\n",
       "2    20210103    715.92\n",
       "3    20210104    723.60\n",
       "4    20210105    981.60\n",
       "..        ...       ...\n",
       "361  20211228    695.04\n",
       "362  20211229    444.00\n",
       "363  20211230    694.80\n",
       "364  20211231    680.40\n",
       "365  20220101    679.92\n",
       "\n",
       "[358 rows x 2 columns]"
      ]
     },
     "execution_count": 25,
     "metadata": {},
     "output_type": "execute_result"
    }
   ],
   "source": [
    "mart = pd.read_csv('kwhuseMart.csv')\n",
    "mart = mart[mart.kWhUsage != 0]\n",
    "mart"
   ]
  },
  {
   "cell_type": "code",
   "execution_count": 21,
   "id": "14c50656",
   "metadata": {},
   "outputs": [
    {
     "data": {
      "image/png": "[encoded data removed]",
      "text/plain": [
       "<Figure size 432x288 with 1 Axes>"
      ]
     },
     "metadata": {
      "needs_background": "light"
     },
     "output_type": "display_data"
    }
   ],
   "source": [
    "plt.plot(mart.index, mart['kWhUsage'], color='red')\n",
    "plt.grid('True')\n",
    "months = ['Jan', 'Feb', 'Mar', 'Apr', 'May', 'Jun', 'Jul', 'Aug', 'Sep', 'Oct', 'Nov', 'Dec','Jan']\n",
    "plt.xticks(np.linspace(0,365,13), months)\n",
    "plt.ylabel('kWh per day')\n",
    "plt.xlabel('Month')\n",
    "plt.title('Martindale kWh Usage Over a Year')\n",
    "plt.show()"
   ]
  },
  {
   "cell_type": "code",
   "execution_count": 6,
   "id": "b9c16a92",
   "metadata": {
    "scrolled": true
   },
   "outputs": [
    {
     "data": {
      "text/html": [
       "<div>\n",
       "<style scoped>\n",
       "    .dataframe tbody tr th:only-of-type {\n",
       "        vertical-align: middle;\n",
       "    }\n",
       "\n",
       "    .dataframe tbody tr th {\n",
       "        vertical-align: top;\n",
       "    }\n",
       "\n",
       "    .dataframe thead th {\n",
       "        text-align: right;\n",
       "    }\n",
       "</style>\n",
       "<table border=\"1\" class=\"dataframe\">\n",
       "  <thead>\n",
       "    <tr style=\"text-align: right;\">\n",
       "      <th></th>\n",
       "      <th>Date</th>\n",
       "      <th>kWhUsage</th>\n",
       "    </tr>\n",
       "  </thead>\n",
       "  <tbody>\n",
       "    <tr>\n",
       "      <th>0</th>\n",
       "      <td>20210101</td>\n",
       "      <td>1522.56</td>\n",
       "    </tr>\n",
       "    <tr>\n",
       "      <th>1</th>\n",
       "      <td>20210102</td>\n",
       "      <td>1419.36</td>\n",
       "    </tr>\n",
       "    <tr>\n",
       "      <th>2</th>\n",
       "      <td>20210103</td>\n",
       "      <td>1553.28</td>\n",
       "    </tr>\n",
       "    <tr>\n",
       "      <th>3</th>\n",
       "      <td>20210104</td>\n",
       "      <td>1533.60</td>\n",
       "    </tr>\n",
       "    <tr>\n",
       "      <th>4</th>\n",
       "      <td>20210105</td>\n",
       "      <td>1482.72</td>\n",
       "    </tr>\n",
       "    <tr>\n",
       "      <th>...</th>\n",
       "      <td>...</td>\n",
       "      <td>...</td>\n",
       "    </tr>\n",
       "    <tr>\n",
       "      <th>361</th>\n",
       "      <td>20211228</td>\n",
       "      <td>1705.20</td>\n",
       "    </tr>\n",
       "    <tr>\n",
       "      <th>362</th>\n",
       "      <td>20211229</td>\n",
       "      <td>1122.72</td>\n",
       "    </tr>\n",
       "    <tr>\n",
       "      <th>363</th>\n",
       "      <td>20211230</td>\n",
       "      <td>1625.52</td>\n",
       "    </tr>\n",
       "    <tr>\n",
       "      <th>364</th>\n",
       "      <td>20211231</td>\n",
       "      <td>1494.24</td>\n",
       "    </tr>\n",
       "    <tr>\n",
       "      <th>365</th>\n",
       "      <td>20220101</td>\n",
       "      <td>1645.68</td>\n",
       "    </tr>\n",
       "  </tbody>\n",
       "</table>\n",
       "<p>358 rows × 2 columns</p>\n",
       "</div>"
      ],
      "text/plain": [
       "         Date  kWhUsage\n",
       "0    20210101   1522.56\n",
       "1    20210102   1419.36\n",
       "2    20210103   1553.28\n",
       "3    20210104   1533.60\n",
       "4    20210105   1482.72\n",
       "..        ...       ...\n",
       "361  20211228   1705.20\n",
       "362  20211229   1122.72\n",
       "363  20211230   1625.52\n",
       "364  20211231   1494.24\n",
       "365  20220101   1645.68\n",
       "\n",
       "[358 rows x 2 columns]"
      ]
     },
     "execution_count": 6,
     "metadata": {},
     "output_type": "execute_result"
    }
   ],
   "source": [
    "stew = pd.read_csv('kwhperday.csv')\n",
    "stew = stew[stew.kWhUsage != 0]\n",
    "stew"
   ]
  },
  {
   "cell_type": "code",
   "execution_count": 13,
   "id": "84ccc90d",
   "metadata": {},
   "outputs": [
    {
     "data": {
      "image/png": "[encoded data removed]",
      "text/plain": [
       "<Figure size 432x288 with 1 Axes>"
      ]
     },
     "metadata": {
      "needs_background": "light"
     },
     "output_type": "display_data"
    }
   ],
   "source": [
    "plt.plot(stew.index, stew['kWhUsage'], color='red')\n",
    "plt.grid('True')\n",
    "months = ['Jan', 'Feb', 'Mar', 'Apr', 'May', 'Jun', 'Jul', 'Aug', 'Sep', 'Oct', 'Nov', 'Dec','Jan']\n",
    "plt.xticks(np.linspace(0,365,13), months)\n",
    "plt.ylabel('kWh per day')\n",
    "plt.xlabel('Month')\n",
    "plt.title('Stewart Hall kWh Usage Over a Year')\n",
    "plt.show()"
   ]
  },
  {
   "cell_type": "code",
   "execution_count": 107,
   "id": "8f2d142b",
   "metadata": {},
   "outputs": [
    {
     "data": {
      "text/html": [
       "<div>\n",
       "<style scoped>\n",
       "    .dataframe tbody tr th:only-of-type {\n",
       "        vertical-align: middle;\n",
       "    }\n",
       "\n",
       "    .dataframe tbody tr th {\n",
       "        vertical-align: top;\n",
       "    }\n",
       "\n",
       "    .dataframe thead th {\n",
       "        text-align: right;\n",
       "    }\n",
       "</style>\n",
       "<table border=\"1\" class=\"dataframe\">\n",
       "  <thead>\n",
       "    <tr style=\"text-align: right;\">\n",
       "      <th></th>\n",
       "      <th>Building</th>\n",
       "      <th>Total Wh/Sqft</th>\n",
       "    </tr>\n",
       "  </thead>\n",
       "  <tbody>\n",
       "    <tr>\n",
       "      <th>0</th>\n",
       "      <td>Weir (2002)</td>\n",
       "      <td>14390.89</td>\n",
       "    </tr>\n",
       "    <tr>\n",
       "      <th>1</th>\n",
       "      <td>Minor (2012)</td>\n",
       "      <td>11586.84</td>\n",
       "    </tr>\n",
       "    <tr>\n",
       "      <th>2</th>\n",
       "      <td>JC West (2014)</td>\n",
       "      <td>31226.57</td>\n",
       "    </tr>\n",
       "    <tr>\n",
       "      <th>3</th>\n",
       "      <td>CME (2012)</td>\n",
       "      <td>31993.39</td>\n",
       "    </tr>\n",
       "    <tr>\n",
       "      <th>4</th>\n",
       "      <td>Library (1996)</td>\n",
       "      <td>33920.00</td>\n",
       "    </tr>\n",
       "    <tr>\n",
       "      <th>5</th>\n",
       "      <td>Fedex (2007)</td>\n",
       "      <td>33759.33</td>\n",
       "    </tr>\n",
       "    <tr>\n",
       "      <th>6</th>\n",
       "      <td>Union (2015)</td>\n",
       "      <td>18298.55</td>\n",
       "    </tr>\n",
       "  </tbody>\n",
       "</table>\n",
       "</div>"
      ],
      "text/plain": [
       "         Building  Total Wh/Sqft\n",
       "0     Weir (2002)       14390.89\n",
       "1    Minor (2012)       11586.84\n",
       "2  JC West (2014)       31226.57\n",
       "3      CME (2012)       31993.39\n",
       "4  Library (1996)       33920.00\n",
       "5    Fedex (2007)       33759.33\n",
       "6    Union (2015)       18298.55"
      ]
     },
     "execution_count": 107,
     "metadata": {},
     "output_type": "execute_result"
    }
   ],
   "source": [
    "df = pd.read_csv('totalwhsqs.csv')\n",
    "df"
   ]
  },
  {
   "cell_type": "code",
   "execution_count": 114,
   "id": "5feb484e",
   "metadata": {
    "scrolled": true
   },
   "outputs": [
    {
     "data": {
      "text/plain": [
       "<function matplotlib.pyplot.show(close=None, block=None)>"
      ]
     },
     "execution_count": 114,
     "metadata": {},
     "output_type": "execute_result"
    },
    {
     "data": {
      "image/png": "[encoded data removed]",
      "text/plain": [
       "<Figure size 432x288 with 1 Axes>"
      ]
     },
     "metadata": {
      "needs_background": "light"
     },
     "output_type": "display_data"
    }
   ],
   "source": [
    "df.plot(x='Building', y='Total Wh/Sqft', kind='bar')\n",
    "plt.title('Building Watt hour Usage per Square Foot')\n",
    "plt.show"
   ]
  }
 ],
 "metadata": {
  "kernelspec": {
   "display_name": "Python 3 (ipykernel)",
   "language": "python",
   "name": "python3"
  },
  "language_info": {
   "codemirror_mode": {
    "name": "ipython",
    "version": 3
   },
   "file_extension": ".py",
   "mimetype": "text/x-python",
   "name": "python",
   "nbconvert_exporter": "python",
   "pygments_lexer": "ipython3",
   "version": "3.9.7"
  }
 },
 "nbformat": 4,
 "nbformat_minor": 5
}
